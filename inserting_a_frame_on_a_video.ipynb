{
  "nbformat": 4,
  "nbformat_minor": 0,
  "metadata": {
    "colab": {
      "provenance": [],
      "authorship_tag": "ABX9TyME3oAVrRSa8zJIo2/WPuuC"
    },
    "kernelspec": {
      "name": "python3",
      "display_name": "Python 3"
    },
    "language_info": {
      "name": "python"
    }
  },
  "cells": [
    {
      "cell_type": "code",
      "source": [
        "import cv2\n",
        "from google.colab.patches import cv2_imshow\n",
        "\n",
        "input_path = '/content/sample_data/для редактирования/для создания рамки.mp4'\n",
        "output_path = '/content/sample_data/после редактирования/video1.mp4'\n",
        "\n",
        "# Функция для добавления аннотации\n",
        "def annotate(img, x, y, w, h, thickness=2):\n",
        "    \"\"\"\n",
        "    Добавляет рамку и текст на изображение.\n",
        "\n",
        "    Параметры:\n",
        "        img: numpy.ndarray - входное изображение.\n",
        "        x, y: float - координаты верхнего левого угла рамки (доля от ширины/высоты).\n",
        "        w, h: int - ширина и высота рамки (в пикселях).\n",
        "        thickness: int - толщина линии рамки.\n",
        "    \"\"\"\n",
        "    # Определение координат для рамки\n",
        "    x_start = int(img.shape[1] * x)\n",
        "    y_start = int(img.shape[0] * y)\n",
        "\n",
        "    # Рисование прямоугольника красного цвета\n",
        "    cv2.rectangle(img,\n",
        "                  (x_start, y_start),\n",
        "                  (x_start + w, y_start + h),\n",
        "                  (0, 0, 255),  # Красный цвет\n",
        "                  thickness)\n",
        "\n",
        "    # Добавление текста\n",
        "    text = \"а тут рамка появилась )))\"\n",
        "    font = cv2.FONT_HERSHEY_COMPLEX\n",
        "    font_scale = 1.5\n",
        "    font_color = (255, 1, 1)  # Белый цвет должны быть 255, 255, 255\n",
        "    line_type = 2\n",
        "\n",
        "    text_x = x_start\n",
        "    text_y = y_start - 10\n",
        "    cv2.putText(img, text, (text_x, text_y), font, font_scale, font_color, line_type)\n",
        "    return img\n",
        "\n",
        "# Функция для обработки и сохранения видео\n",
        "def process_and_save_video(input_path, output_path):\n",
        "    \"\"\"\n",
        "    Обрабатывает видео, добавляя аннотации, и сохраняет его в новый файл.\n",
        "\n",
        "    Параметры:\n",
        "        input_path: str - путь к исходному видеофайлу.\n",
        "        output_path: str - путь для сохранения обработанного видео.\n",
        "    \"\"\"\n",
        "    # Открываем видеофайл\n",
        "cap = cv2.VideoCapture(input_path)\n",
        "if not cap.isOpened():\n",
        "  print(\"Ошибка: не удалось открыть видео.\")\n",
        "#  return\n",
        "\n",
        "    # Получаем параметры видео\n",
        "fourcc = cv2.VideoWriter_fourcc(*'mp4v')  # Кодек для MP4\n",
        "fps = int(cap.get(cv2.CAP_PROP_FPS))\n",
        "frame_width = int(cap.get(cv2.CAP_PROP_FRAME_WIDTH))\n",
        "frame_height = int(cap.get(cv2.CAP_PROP_FRAME_HEIGHT))\n",
        "\n",
        "     # Создаём объект для записи видео\n",
        "out = cv2.VideoWriter(output_path, fourcc, fps, (frame_width, frame_height))\n",
        "\n",
        "while True:\n",
        "        ret, frame = cap.read()\n",
        "        if not ret:\n",
        "            break\n",
        "\n",
        "        # Применяем функцию annotate к кадру\n",
        "        frame = annotate(frame, 0.25, 0.25, 200, 200, thickness=16)\n",
        "\n",
        "        # Сохраняем обработанный кадр\n",
        "        out.write(frame)\n",
        "\n",
        "process_and_save_video(input_path, output_path)\n",
        "\n",
        "    # Освобождаем ресурсы\n",
        "cap.release()\n",
        "out.release()\n",
        "print(f\"Видео сохранено в {output_path}\")"
      ],
      "metadata": {
        "colab": {
          "base_uri": "https://localhost:8080/"
        },
        "id": "fWs-JYvJkT4J",
        "outputId": "6804754f-b700-4e2a-ffc7-8417f49f76fc"
      },
      "execution_count": null,
      "outputs": [
        {
          "output_type": "stream",
          "name": "stdout",
          "text": [
            "Видео сохранено в /content/sample_data/после редактирования/video1.mp4\n"
          ]
        }
      ]
    },
    {
      "cell_type": "code",
      "source": [],
      "metadata": {
        "id": "-vpJHqoqkhkR"
      },
      "execution_count": null,
      "outputs": []
    }
  ]
}